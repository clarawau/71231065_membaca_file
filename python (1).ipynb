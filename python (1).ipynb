{
 "cells": [
  {
   "cell_type": "code",
   "execution_count": 11,
   "id": "e30ee662",
   "metadata": {
    "scrolled": true
   },
   "outputs": [
    {
     "name": "stdout",
     "output_type": "stream",
     "text": [
      "Ada perbedaan antara kedua file:\n",
      "Baris 1:\n",
      "File 1: cintai usus mu minum baygon tiap hari\n",
      "File 2: cintai usus mu minum yakult tiap hari\n",
      "\n",
      "Baris 2:\n",
      "File 1: semangat ya teman selalu lah menyerah\n",
      "File 2: semangat ya teman jangan pantang menyerah\n",
      "\n",
      "Baris 4:\n",
      "File 1: jangan lupa datang di pesta kemerdekaan besok 17 mei\n",
      "File 2: jangan lupa datang di pesta kemerdekaan besok 17 agustus\n",
      "\n",
      "Baris 7:\n",
      "File 1: karena masih banyak lagi tantang yang lebih sulit, semangat!!\n",
      "File 2: karena masih banyak lagi tantang yang lebih sulit, cemungut!!\n",
      "\n"
     ]
    }
   ],
   "source": [
    "file1 = open('text1.txt', 'r')\n",
    "file2 = open('text2.txt', 'r')\n",
    "text1 = file1.readlines()\n",
    "text2 = file2.readlines()\n",
    "text1 = [line.lower() for line in text1]\n",
    "text2 = [line.lower() for line in text2]\n",
    "if text1 == text2:\n",
    "    print(\"Kedua file sama.\")\n",
    "else:\n",
    "    print(\"Ada perbedaan antara kedua file:\")\n",
    "    for i, (line1, line2) in enumerate(zip(text1, text2), start=1):\n",
    "        if line1 != line2:\n",
    "            print(f\"Baris {i}:\")\n",
    "            print(f\"File 1: {line1.strip()}\")\n",
    "            print(f\"File 2: {line2.strip()}\")\n",
    "            print()\n",
    "file1.close()\n",
    "file2.close()"
   ]
  },
  {
   "cell_type": "code",
   "execution_count": 12,
   "id": "79d23036",
   "metadata": {},
   "outputs": [
    {
     "name": "stdout",
     "output_type": "stream",
     "text": [
      "nama file: soal.txt\n",
      "1+1 =\n",
      "Jawab: 2\n",
      "Jawaban benar!\n",
      "Bendera Indonesia?\n",
      "Jawab: merah putih\n",
      "Jawaban benar!\n",
      "Kota gudeg adalah:\n",
      "Jawab: yogyakarta\n",
      "Jawaban benar!\n",
      "Komponen PC untuk penyimpanan file adalah...\n",
      "Jawab: harddisk\n",
      "Jawaban benar!\n",
      "50 * 20 =\n",
      "Jawab: 1000\n",
      "Jawaban benar!\n"
     ]
    }
   ],
   "source": [
    "def cek_jawaban(pertanyaan, jawaban_benar, jawaban):\n",
    "    if jawaban_benar.strip().lower() == jawaban.strip().lower():\n",
    "        return \"Jawaban benar!\"\n",
    "    else:\n",
    "        return \"Jawaban salah!\"\n",
    "namafile = \"soal.txt\"\n",
    "with open(namafile, \"r\") as file:\n",
    "    lines = file.readlines()\n",
    "print(\"nama file:\", namafile)\n",
    "\n",
    "for line in lines:\n",
    "    pertanyaan, jawaban_benar = line.strip().split(\"||\")\n",
    "    print(pertanyaan.strip())\n",
    "    jawaban = input(\"Jawab: \")\n",
    "    akhir = cek_jawaban(pertanyaan, jawaban_benar, jawaban)\n",
    "    print(akhir)"
   ]
  },
  {
   "cell_type": "code",
   "execution_count": null,
   "id": "3932ab39",
   "metadata": {},
   "outputs": [],
   "source": []
  },
  {
   "cell_type": "code",
   "execution_count": null,
   "id": "5833b431",
   "metadata": {},
   "outputs": [],
   "source": []
  }
 ],
 "metadata": {
  "kernelspec": {
   "display_name": "Python 3 (ipykernel)",
   "language": "python",
   "name": "python3"
  },
  "language_info": {
   "codemirror_mode": {
    "name": "ipython",
    "version": 3
   },
   "file_extension": ".py",
   "mimetype": "text/x-python",
   "name": "python",
   "nbconvert_exporter": "python",
   "pygments_lexer": "ipython3",
   "version": "3.11.5"
  }
 },
 "nbformat": 4,
 "nbformat_minor": 5
}
